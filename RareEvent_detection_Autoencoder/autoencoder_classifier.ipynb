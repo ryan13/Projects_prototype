{
 "cells": [
  {
   "cell_type": "markdown",
   "metadata": {},
   "source": [
    "# Rare Event Binary Classification using Autoencoder\n",
    "\n",
    "Here we will show an implementation of building a binary classifier using Autoencoders. The purpose is to show the implementation steps. The Autoencoder tuning for performance improvement can be done.\n",
    "\n",
    "The dataset used here is taken from here,\n",
    "\n",
    "**Dataset: Rare Event Classification in Multivariate Time Series** https://arxiv.org/abs/1809.10717 (please cite this article, if using the dataset)."
   ]
  },
  {
   "cell_type": "code",
   "execution_count": 1,
   "metadata": {},
   "outputs": [
    {
     "name": "stderr",
     "output_type": "stream",
     "text": [
      "Using TensorFlow backend.\n"
     ]
    }
   ],
   "source": [
    "%matplotlib inline\n",
    "import matplotlib.pyplot as plt\n",
    "import seaborn as sns\n",
    "\n",
    "import pandas as pd\n",
    "import numpy as np\n",
    "from pylab import rcParams\n",
    "\n",
    "import tensorflow as tf\n",
    "from keras.models import Model, load_model\n",
    "from keras.layers import Input, Dense\n",
    "from keras.callbacks import ModelCheckpoint, TensorBoard\n",
    "from keras import regularizers\n",
    "\n",
    "from sklearn.preprocessing import StandardScaler\n",
    "from sklearn.model_selection import train_test_split\n",
    "from sklearn.metrics import confusion_matrix, precision_recall_curve\n",
    "from sklearn.metrics import recall_score, classification_report, auc, roc_curve\n",
    "from sklearn.metrics import precision_recall_fscore_support, f1_score\n",
    "\n",
    "from numpy.random import seed\n",
    "seed(1)\n",
    "from tensorflow import set_random_seed\n",
    "set_random_seed(2)\n",
    "\n",
    "SEED = 123 #used to help randomly select the data points\n",
    "DATA_SPLIT_PCT = 0.2\n",
    "\n",
    "rcParams['figure.figsize'] = 8, 6\n",
    "LABELS = [\"Normal\",\"Break\"]"
   ]
  },
  {
   "cell_type": "markdown",
   "metadata": {},
   "source": [
    "## Reading and preparing data"
   ]
  },
  {
   "cell_type": "code",
   "execution_count": 2,
   "metadata": {},
   "outputs": [
    {
     "data": {
      "text/html": [
       "<div>\n",
       "<style scoped>\n",
       "    .dataframe tbody tr th:only-of-type {\n",
       "        vertical-align: middle;\n",
       "    }\n",
       "\n",
       "    .dataframe tbody tr th {\n",
       "        vertical-align: top;\n",
       "    }\n",
       "\n",
       "    .dataframe thead th {\n",
       "        text-align: right;\n",
       "    }\n",
       "</style>\n",
       "<table border=\"1\" class=\"dataframe\">\n",
       "  <thead>\n",
       "    <tr style=\"text-align: right;\">\n",
       "      <th></th>\n",
       "      <th>time</th>\n",
       "      <th>y</th>\n",
       "      <th>x1</th>\n",
       "      <th>x2</th>\n",
       "      <th>x3</th>\n",
       "      <th>x4</th>\n",
       "      <th>x5</th>\n",
       "      <th>x6</th>\n",
       "      <th>x7</th>\n",
       "      <th>x8</th>\n",
       "      <th>...</th>\n",
       "      <th>x52</th>\n",
       "      <th>x53</th>\n",
       "      <th>x54</th>\n",
       "      <th>x55</th>\n",
       "      <th>x56</th>\n",
       "      <th>x57</th>\n",
       "      <th>x58</th>\n",
       "      <th>x59</th>\n",
       "      <th>x60</th>\n",
       "      <th>x61</th>\n",
       "    </tr>\n",
       "  </thead>\n",
       "  <tbody>\n",
       "    <tr>\n",
       "      <th>0</th>\n",
       "      <td>5/1/99 0:00</td>\n",
       "      <td>0</td>\n",
       "      <td>0.376665</td>\n",
       "      <td>-4.596435</td>\n",
       "      <td>-4.095756</td>\n",
       "      <td>13.497687</td>\n",
       "      <td>-0.118830</td>\n",
       "      <td>-20.669883</td>\n",
       "      <td>0.000732</td>\n",
       "      <td>-0.061114</td>\n",
       "      <td>...</td>\n",
       "      <td>10.091721</td>\n",
       "      <td>0.053279</td>\n",
       "      <td>-4.936434</td>\n",
       "      <td>-24.590146</td>\n",
       "      <td>18.515436</td>\n",
       "      <td>3.473400</td>\n",
       "      <td>0.033444</td>\n",
       "      <td>0.953219</td>\n",
       "      <td>0.006076</td>\n",
       "      <td>0</td>\n",
       "    </tr>\n",
       "    <tr>\n",
       "      <th>1</th>\n",
       "      <td>5/1/99 0:02</td>\n",
       "      <td>0</td>\n",
       "      <td>0.475720</td>\n",
       "      <td>-4.542502</td>\n",
       "      <td>-4.018359</td>\n",
       "      <td>16.230659</td>\n",
       "      <td>-0.128733</td>\n",
       "      <td>-18.758079</td>\n",
       "      <td>0.000732</td>\n",
       "      <td>-0.061114</td>\n",
       "      <td>...</td>\n",
       "      <td>10.095871</td>\n",
       "      <td>0.062801</td>\n",
       "      <td>-4.937179</td>\n",
       "      <td>-32.413266</td>\n",
       "      <td>22.760065</td>\n",
       "      <td>2.682933</td>\n",
       "      <td>0.033536</td>\n",
       "      <td>1.090502</td>\n",
       "      <td>0.006083</td>\n",
       "      <td>0</td>\n",
       "    </tr>\n",
       "    <tr>\n",
       "      <th>2</th>\n",
       "      <td>5/1/99 0:04</td>\n",
       "      <td>0</td>\n",
       "      <td>0.363848</td>\n",
       "      <td>-4.681394</td>\n",
       "      <td>-4.353147</td>\n",
       "      <td>14.127998</td>\n",
       "      <td>-0.138636</td>\n",
       "      <td>-17.836632</td>\n",
       "      <td>0.010803</td>\n",
       "      <td>-0.061114</td>\n",
       "      <td>...</td>\n",
       "      <td>10.100265</td>\n",
       "      <td>0.072322</td>\n",
       "      <td>-4.937924</td>\n",
       "      <td>-34.183774</td>\n",
       "      <td>27.004663</td>\n",
       "      <td>3.537487</td>\n",
       "      <td>0.033629</td>\n",
       "      <td>1.840540</td>\n",
       "      <td>0.006090</td>\n",
       "      <td>0</td>\n",
       "    </tr>\n",
       "    <tr>\n",
       "      <th>3</th>\n",
       "      <td>5/1/99 0:06</td>\n",
       "      <td>0</td>\n",
       "      <td>0.301590</td>\n",
       "      <td>-4.758934</td>\n",
       "      <td>-4.023612</td>\n",
       "      <td>13.161567</td>\n",
       "      <td>-0.148142</td>\n",
       "      <td>-18.517601</td>\n",
       "      <td>0.002075</td>\n",
       "      <td>-0.061114</td>\n",
       "      <td>...</td>\n",
       "      <td>10.104660</td>\n",
       "      <td>0.081600</td>\n",
       "      <td>-4.938669</td>\n",
       "      <td>-35.954281</td>\n",
       "      <td>21.672449</td>\n",
       "      <td>3.986095</td>\n",
       "      <td>0.033721</td>\n",
       "      <td>2.554880</td>\n",
       "      <td>0.006097</td>\n",
       "      <td>0</td>\n",
       "    </tr>\n",
       "    <tr>\n",
       "      <th>4</th>\n",
       "      <td>5/1/99 0:08</td>\n",
       "      <td>0</td>\n",
       "      <td>0.265578</td>\n",
       "      <td>-4.749928</td>\n",
       "      <td>-4.333150</td>\n",
       "      <td>15.267340</td>\n",
       "      <td>-0.155314</td>\n",
       "      <td>-17.505913</td>\n",
       "      <td>0.000732</td>\n",
       "      <td>-0.061114</td>\n",
       "      <td>...</td>\n",
       "      <td>10.109054</td>\n",
       "      <td>0.091121</td>\n",
       "      <td>-4.939414</td>\n",
       "      <td>-37.724789</td>\n",
       "      <td>21.907251</td>\n",
       "      <td>3.601573</td>\n",
       "      <td>0.033777</td>\n",
       "      <td>1.410494</td>\n",
       "      <td>0.006105</td>\n",
       "      <td>0</td>\n",
       "    </tr>\n",
       "  </tbody>\n",
       "</table>\n",
       "<p>5 rows × 63 columns</p>\n",
       "</div>"
      ],
      "text/plain": [
       "          time  y        x1        x2        x3         x4        x5  \\\n",
       "0  5/1/99 0:00  0  0.376665 -4.596435 -4.095756  13.497687 -0.118830   \n",
       "1  5/1/99 0:02  0  0.475720 -4.542502 -4.018359  16.230659 -0.128733   \n",
       "2  5/1/99 0:04  0  0.363848 -4.681394 -4.353147  14.127998 -0.138636   \n",
       "3  5/1/99 0:06  0  0.301590 -4.758934 -4.023612  13.161567 -0.148142   \n",
       "4  5/1/99 0:08  0  0.265578 -4.749928 -4.333150  15.267340 -0.155314   \n",
       "\n",
       "          x6        x7        x8  ...        x52       x53       x54  \\\n",
       "0 -20.669883  0.000732 -0.061114  ...  10.091721  0.053279 -4.936434   \n",
       "1 -18.758079  0.000732 -0.061114  ...  10.095871  0.062801 -4.937179   \n",
       "2 -17.836632  0.010803 -0.061114  ...  10.100265  0.072322 -4.937924   \n",
       "3 -18.517601  0.002075 -0.061114  ...  10.104660  0.081600 -4.938669   \n",
       "4 -17.505913  0.000732 -0.061114  ...  10.109054  0.091121 -4.939414   \n",
       "\n",
       "         x55        x56       x57       x58       x59       x60  x61  \n",
       "0 -24.590146  18.515436  3.473400  0.033444  0.953219  0.006076    0  \n",
       "1 -32.413266  22.760065  2.682933  0.033536  1.090502  0.006083    0  \n",
       "2 -34.183774  27.004663  3.537487  0.033629  1.840540  0.006090    0  \n",
       "3 -35.954281  21.672449  3.986095  0.033721  2.554880  0.006097    0  \n",
       "4 -37.724789  21.907251  3.601573  0.033777  1.410494  0.006105    0  \n",
       "\n",
       "[5 rows x 63 columns]"
      ]
     },
     "execution_count": 2,
     "metadata": {},
     "output_type": "execute_result"
    }
   ],
   "source": [
    "df = pd.read_csv(\"data/processminer-rare-event-mts - data.csv\") \n",
    "df.head(n=5)  # visualize the data."
   ]
  },
  {
   "cell_type": "markdown",
   "metadata": {},
   "source": [
    "### Shift the data\n",
    "\n",
    "This is a timeseries data in which we have to predict the event (y = 1) ahead in time. In this data, consecutive rows are 2 minutes apart. We will shift the labels in column `y` by 2 rows to do a 4 minute ahead prediction."
   ]
  },
  {
   "cell_type": "code",
   "execution_count": 3,
   "metadata": {},
   "outputs": [],
   "source": [
    "sign = lambda x: (1, -1)[x < 0]\n",
    "\n",
    "def curve_shift(df, shift_by):\n",
    "    '''\n",
    "    This function will shift the binary labels in a dataframe.\n",
    "    The curve shift will be with respect to the 1s. \n",
    "    For example, if shift is -2, the following process\n",
    "    will happen: if row n is labeled as 1, then\n",
    "    - Make row (n+shift_by):(n+shift_by-1) = 1.\n",
    "    - Remove row n.\n",
    "    i.e. the labels will be shifted up to 2 rows up.\n",
    "    \n",
    "    Inputs:\n",
    "    df       A pandas dataframe with a binary labeled column. \n",
    "             This labeled column should be named as 'y'.\n",
    "    shift_by An integer denoting the number of rows to shift.\n",
    "    \n",
    "    Output\n",
    "    df       A dataframe with the binary labels shifted by shift.\n",
    "    '''\n",
    "\n",
    "    vector = df['y'].copy()\n",
    "    for s in range(abs(shift_by)):\n",
    "        tmp = vector.shift(sign(shift_by))\n",
    "        tmp = tmp.fillna(0)\n",
    "        vector += tmp\n",
    "    labelcol = 'y'\n",
    "    # Add vector to the df\n",
    "    df.insert(loc=0, column=labelcol+'tmp', value=vector)\n",
    "    # Remove the rows with labelcol == 1.\n",
    "    df = df.drop(df[df[labelcol] == 1].index)\n",
    "    # Drop labelcol and rename the tmp col as labelcol\n",
    "    df = df.drop(labelcol, axis=1)\n",
    "    df = df.rename(columns={labelcol+'tmp': labelcol})\n",
    "    # Make the labelcol binary\n",
    "    df.loc[df[labelcol] > 0, labelcol] = 1\n",
    "\n",
    "    return df"
   ]
  },
  {
   "cell_type": "code",
   "execution_count": 4,
   "metadata": {},
   "outputs": [
    {
     "name": "stdout",
     "output_type": "stream",
     "text": [
      "Before shifting\n"
     ]
    },
    {
     "data": {
      "text/html": [
       "<div>\n",
       "<style scoped>\n",
       "    .dataframe tbody tr th:only-of-type {\n",
       "        vertical-align: middle;\n",
       "    }\n",
       "\n",
       "    .dataframe tbody tr th {\n",
       "        vertical-align: top;\n",
       "    }\n",
       "\n",
       "    .dataframe thead th {\n",
       "        text-align: right;\n",
       "    }\n",
       "</style>\n",
       "<table border=\"1\" class=\"dataframe\">\n",
       "  <thead>\n",
       "    <tr style=\"text-align: right;\">\n",
       "      <th></th>\n",
       "      <th>time</th>\n",
       "      <th>y</th>\n",
       "      <th>x1</th>\n",
       "      <th>x2</th>\n",
       "      <th>x3</th>\n",
       "    </tr>\n",
       "  </thead>\n",
       "  <tbody>\n",
       "    <tr>\n",
       "      <th>256</th>\n",
       "      <td>5/1/99 8:32</td>\n",
       "      <td>0</td>\n",
       "      <td>1.016235</td>\n",
       "      <td>-4.058394</td>\n",
       "      <td>-1.097158</td>\n",
       "    </tr>\n",
       "    <tr>\n",
       "      <th>257</th>\n",
       "      <td>5/1/99 8:34</td>\n",
       "      <td>0</td>\n",
       "      <td>1.005602</td>\n",
       "      <td>-3.876199</td>\n",
       "      <td>-1.074373</td>\n",
       "    </tr>\n",
       "    <tr>\n",
       "      <th>258</th>\n",
       "      <td>5/1/99 8:36</td>\n",
       "      <td>0</td>\n",
       "      <td>0.933933</td>\n",
       "      <td>-3.868467</td>\n",
       "      <td>-1.249954</td>\n",
       "    </tr>\n",
       "    <tr>\n",
       "      <th>259</th>\n",
       "      <td>5/1/99 8:38</td>\n",
       "      <td>1</td>\n",
       "      <td>0.892311</td>\n",
       "      <td>-13.332664</td>\n",
       "      <td>-10.006578</td>\n",
       "    </tr>\n",
       "    <tr>\n",
       "      <th>260</th>\n",
       "      <td>5/1/99 10:50</td>\n",
       "      <td>0</td>\n",
       "      <td>0.020062</td>\n",
       "      <td>-3.987897</td>\n",
       "      <td>-1.248529</td>\n",
       "    </tr>\n",
       "  </tbody>\n",
       "</table>\n",
       "</div>"
      ],
      "text/plain": [
       "             time  y        x1         x2         x3\n",
       "256   5/1/99 8:32  0  1.016235  -4.058394  -1.097158\n",
       "257   5/1/99 8:34  0  1.005602  -3.876199  -1.074373\n",
       "258   5/1/99 8:36  0  0.933933  -3.868467  -1.249954\n",
       "259   5/1/99 8:38  1  0.892311 -13.332664 -10.006578\n",
       "260  5/1/99 10:50  0  0.020062  -3.987897  -1.248529"
      ]
     },
     "metadata": {},
     "output_type": "display_data"
    },
    {
     "name": "stdout",
     "output_type": "stream",
     "text": [
      "After shifting\n"
     ]
    },
    {
     "data": {
      "text/html": [
       "<div>\n",
       "<style scoped>\n",
       "    .dataframe tbody tr th:only-of-type {\n",
       "        vertical-align: middle;\n",
       "    }\n",
       "\n",
       "    .dataframe tbody tr th {\n",
       "        vertical-align: top;\n",
       "    }\n",
       "\n",
       "    .dataframe thead th {\n",
       "        text-align: right;\n",
       "    }\n",
       "</style>\n",
       "<table border=\"1\" class=\"dataframe\">\n",
       "  <thead>\n",
       "    <tr style=\"text-align: right;\">\n",
       "      <th></th>\n",
       "      <th>y</th>\n",
       "      <th>time</th>\n",
       "      <th>x1</th>\n",
       "      <th>x2</th>\n",
       "      <th>x3</th>\n",
       "    </tr>\n",
       "  </thead>\n",
       "  <tbody>\n",
       "    <tr>\n",
       "      <th>255</th>\n",
       "      <td>0.0</td>\n",
       "      <td>5/1/99 8:30</td>\n",
       "      <td>0.997107</td>\n",
       "      <td>-3.865720</td>\n",
       "      <td>-1.133779</td>\n",
       "    </tr>\n",
       "    <tr>\n",
       "      <th>256</th>\n",
       "      <td>0.0</td>\n",
       "      <td>5/1/99 8:32</td>\n",
       "      <td>1.016235</td>\n",
       "      <td>-4.058394</td>\n",
       "      <td>-1.097158</td>\n",
       "    </tr>\n",
       "    <tr>\n",
       "      <th>257</th>\n",
       "      <td>1.0</td>\n",
       "      <td>5/1/99 8:34</td>\n",
       "      <td>1.005602</td>\n",
       "      <td>-3.876199</td>\n",
       "      <td>-1.074373</td>\n",
       "    </tr>\n",
       "    <tr>\n",
       "      <th>258</th>\n",
       "      <td>1.0</td>\n",
       "      <td>5/1/99 8:36</td>\n",
       "      <td>0.933933</td>\n",
       "      <td>-3.868467</td>\n",
       "      <td>-1.249954</td>\n",
       "    </tr>\n",
       "    <tr>\n",
       "      <th>260</th>\n",
       "      <td>0.0</td>\n",
       "      <td>5/1/99 10:50</td>\n",
       "      <td>0.020062</td>\n",
       "      <td>-3.987897</td>\n",
       "      <td>-1.248529</td>\n",
       "    </tr>\n",
       "  </tbody>\n",
       "</table>\n",
       "</div>"
      ],
      "text/plain": [
       "       y          time        x1        x2        x3\n",
       "255  0.0   5/1/99 8:30  0.997107 -3.865720 -1.133779\n",
       "256  0.0   5/1/99 8:32  1.016235 -4.058394 -1.097158\n",
       "257  1.0   5/1/99 8:34  1.005602 -3.876199 -1.074373\n",
       "258  1.0   5/1/99 8:36  0.933933 -3.868467 -1.249954\n",
       "260  0.0  5/1/99 10:50  0.020062 -3.987897 -1.248529"
      ]
     },
     "metadata": {},
     "output_type": "display_data"
    }
   ],
   "source": [
    "'''\n",
    "Shift the data by 2 units, equal to 4 minutes.\n",
    "\n",
    "Test: Testing whether the shift happened correctly.\n",
    "'''\n",
    "print('Before shifting')  # Positive labeled rows before shifting.\n",
    "one_indexes = df.index[df['y'] == 1]\n",
    "display(df.iloc[(one_indexes[0]-3):(one_indexes[0]+2), 0:5].head(n=5))\n",
    "\n",
    "# Shift the response column y by 2 rows to do a 4-min ahead prediction.\n",
    "df = curve_shift(df, shift_by = -2)\n",
    "\n",
    "print('After shifting')  # Validating if the shift happened correctly.\n",
    "display(df.iloc[(one_indexes[0]-4):(one_indexes[0]+1), 0:5].head(n=5))  "
   ]
  },
  {
   "cell_type": "code",
   "execution_count": 5,
   "metadata": {},
   "outputs": [],
   "source": [
    "# Remove time column, and the categorical columns\n",
    "df = df.drop(['time', 'x28', 'x61'], axis=1)"
   ]
  },
  {
   "cell_type": "markdown",
   "metadata": {},
   "source": [
    "### Divide the data into train, valid, and test"
   ]
  },
  {
   "cell_type": "code",
   "execution_count": 6,
   "metadata": {},
   "outputs": [],
   "source": [
    "df_train, df_test = train_test_split(df, test_size=DATA_SPLIT_PCT, random_state=SEED)\n",
    "df_train, df_valid = train_test_split(df_train, test_size=DATA_SPLIT_PCT, random_state=SEED)"
   ]
  },
  {
   "cell_type": "markdown",
   "metadata": {},
   "source": [
    "In the autoencoder, we will be encoding only the negatively labeled data. That is, we will take the part of data for which `y=0` and build an autoencoder. For that, we will divide the datasets as following."
   ]
  },
  {
   "cell_type": "code",
   "execution_count": 7,
   "metadata": {},
   "outputs": [],
   "source": [
    "df_train_0 = df_train.loc[df['y'] == 0]\n",
    "df_train_1 = df_train.loc[df['y'] == 1]\n",
    "df_train_0_x = df_train_0.drop(['y'], axis=1)\n",
    "df_train_1_x = df_train_1.drop(['y'], axis=1)\n",
    "\n",
    "df_valid_0 = df_valid.loc[df['y'] == 0]\n",
    "df_valid_1 = df_valid.loc[df['y'] == 1]\n",
    "df_valid_0_x = df_valid_0.drop(['y'], axis=1)\n",
    "df_valid_1_x = df_valid_1.drop(['y'], axis=1)\n",
    "\n",
    "df_test_0 = df_test.loc[df['y'] == 0]\n",
    "df_test_1 = df_test.loc[df['y'] == 1]\n",
    "df_test_0_x = df_test_0.drop(['y'], axis=1)\n",
    "df_test_1_x = df_test_1.drop(['y'], axis=1)"
   ]
  },
  {
   "cell_type": "markdown",
   "metadata": {},
   "source": [
    "### Standardize the data\n",
    "It is usually better to use a standardized data (transformed to Gaussian, mean 0 and sd 1) for autoencoders."
   ]
  },
  {
   "cell_type": "code",
   "execution_count": 8,
   "metadata": {},
   "outputs": [],
   "source": [
    "scaler = StandardScaler().fit(df_train_0_x)\n",
    "df_train_0_x_rescaled = scaler.transform(df_train_0_x)\n",
    "df_valid_0_x_rescaled = scaler.transform(df_valid_0_x)\n",
    "df_valid_x_rescaled = scaler.transform(df_valid.drop(['y'], axis = 1))\n",
    "\n",
    "df_test_0_x_rescaled = scaler.transform(df_test_0_x)\n",
    "df_test_x_rescaled = scaler.transform(df_test.drop(['y'], axis = 1))"
   ]
  },
  {
   "cell_type": "markdown",
   "metadata": {},
   "source": [
    "## Autoencoder training"
   ]
  },
  {
   "cell_type": "markdown",
   "metadata": {},
   "source": [
    "First we will initialize the Autoencoder architecture. We are building a simple autoencoder. More complex architectures and other configurations should be explored."
   ]
  },
  {
   "cell_type": "code",
   "execution_count": 9,
   "metadata": {},
   "outputs": [
    {
     "name": "stdout",
     "output_type": "stream",
     "text": [
      "WARNING:tensorflow:From /Users/inferno/virtualenvs/keras_tf/lib/python3.6/site-packages/tensorflow/python/framework/op_def_library.py:263: colocate_with (from tensorflow.python.framework.ops) is deprecated and will be removed in a future version.\n",
      "Instructions for updating:\n",
      "Colocations handled automatically by placer.\n"
     ]
    }
   ],
   "source": [
    "nb_epoch = 100\n",
    "batch_size = 128\n",
    "input_dim = df_train_0_x_rescaled.shape[1] #num of predictor variables, \n",
    "encoding_dim = 32\n",
    "hidden_dim = int(encoding_dim / 2)\n",
    "learning_rate = 1e-3\n",
    "\n",
    "input_layer = Input(shape=(input_dim, ))\n",
    "encoder = Dense(encoding_dim, activation=\"tanh\", activity_regularizer=regularizers.l1(learning_rate))(input_layer)\n",
    "encoder = Dense(hidden_dim, activation=\"relu\")(encoder)\n",
    "decoder = Dense(hidden_dim, activation='tanh')(encoder)\n",
    "decoder = Dense(input_dim, activation='relu')(decoder)\n",
    "autoencoder = Model(inputs=input_layer, outputs=decoder)"
   ]
  },
  {
   "cell_type": "code",
   "execution_count": 10,
   "metadata": {},
   "outputs": [
    {
     "name": "stdout",
     "output_type": "stream",
     "text": [
      "WARNING:tensorflow:From /Users/inferno/virtualenvs/keras_tf/lib/python3.6/site-packages/tensorflow/python/ops/math_ops.py:3066: to_int32 (from tensorflow.python.ops.math_ops) is deprecated and will be removed in a future version.\n",
      "Instructions for updating:\n",
      "Use tf.cast instead.\n",
      "Train on 11541 samples, validate on 2883 samples\n",
      "Epoch 1/100\n",
      "11541/11541 [==============================] - 0s 26us/step - loss: 2.7909 - acc: 0.0555 - val_loss: 2.2729 - val_acc: 0.0943\n",
      "Epoch 2/100\n",
      "11541/11541 [==============================] - 0s 12us/step - loss: 1.9436 - acc: 0.1045 - val_loss: 1.6091 - val_acc: 0.0878\n",
      "Epoch 3/100\n",
      "11541/11541 [==============================] - 0s 12us/step - loss: 1.4254 - acc: 0.0888 - val_loss: 1.2479 - val_acc: 0.0937\n",
      "Epoch 4/100\n",
      "11541/11541 [==============================] - 0s 13us/step - loss: 1.1707 - acc: 0.0935 - val_loss: 1.0734 - val_acc: 0.1048\n",
      "Epoch 5/100\n",
      "11541/11541 [==============================] - 0s 12us/step - loss: 1.0374 - acc: 0.1182 - val_loss: 0.9760 - val_acc: 0.1297\n",
      "Epoch 6/100\n",
      "11541/11541 [==============================] - 0s 12us/step - loss: 0.9604 - acc: 0.1491 - val_loss: 0.9198 - val_acc: 0.1526\n",
      "Epoch 7/100\n",
      "11541/11541 [==============================] - 0s 14us/step - loss: 0.9126 - acc: 0.1821 - val_loss: 0.8819 - val_acc: 0.1762\n",
      "Epoch 8/100\n",
      "11541/11541 [==============================] - 0s 12us/step - loss: 0.8808 - acc: 0.1912 - val_loss: 0.8587 - val_acc: 0.1883\n",
      "Epoch 9/100\n",
      "11541/11541 [==============================] - 0s 15us/step - loss: 0.8602 - acc: 0.2016 - val_loss: 0.8419 - val_acc: 0.1883\n",
      "Epoch 10/100\n",
      "11541/11541 [==============================] - 0s 15us/step - loss: 0.8436 - acc: 0.2107 - val_loss: 0.8247 - val_acc: 0.2012\n",
      "Epoch 11/100\n",
      "11541/11541 [==============================] - 0s 13us/step - loss: 0.8287 - acc: 0.2182 - val_loss: 0.8102 - val_acc: 0.2088\n",
      "Epoch 12/100\n",
      "11541/11541 [==============================] - 0s 13us/step - loss: 0.8150 - acc: 0.2277 - val_loss: 0.8028 - val_acc: 0.1939\n",
      "Epoch 13/100\n",
      "11541/11541 [==============================] - 0s 14us/step - loss: 0.8061 - acc: 0.2342 - val_loss: 0.7963 - val_acc: 0.2511\n",
      "Epoch 14/100\n",
      "11541/11541 [==============================] - 0s 14us/step - loss: 0.7962 - acc: 0.2505 - val_loss: 0.7812 - val_acc: 0.2473\n",
      "Epoch 15/100\n",
      "11541/11541 [==============================] - 0s 17us/step - loss: 0.7862 - acc: 0.2659 - val_loss: 0.7790 - val_acc: 0.2487\n",
      "Epoch 16/100\n",
      "11541/11541 [==============================] - 0s 15us/step - loss: 0.7786 - acc: 0.2817 - val_loss: 0.7650 - val_acc: 0.3045\n",
      "Epoch 17/100\n",
      "11541/11541 [==============================] - 0s 16us/step - loss: 0.7724 - acc: 0.2996 - val_loss: 0.7668 - val_acc: 0.2733\n",
      "Epoch 18/100\n",
      "11541/11541 [==============================] - 0s 18us/step - loss: 0.7667 - acc: 0.3111 - val_loss: 0.7612 - val_acc: 0.2990\n",
      "Epoch 19/100\n",
      "11541/11541 [==============================] - 0s 15us/step - loss: 0.7627 - acc: 0.3165 - val_loss: 0.7461 - val_acc: 0.3219\n",
      "Epoch 20/100\n",
      "11541/11541 [==============================] - 0s 15us/step - loss: 0.7553 - acc: 0.3261 - val_loss: 0.7443 - val_acc: 0.3097\n",
      "Epoch 21/100\n",
      "11541/11541 [==============================] - 0s 14us/step - loss: 0.7532 - acc: 0.3341 - val_loss: 0.7418 - val_acc: 0.3510\n",
      "Epoch 22/100\n",
      "11541/11541 [==============================] - 0s 13us/step - loss: 0.7470 - acc: 0.3441 - val_loss: 0.7343 - val_acc: 0.3434\n",
      "Epoch 23/100\n",
      "11541/11541 [==============================] - 0s 13us/step - loss: 0.7428 - acc: 0.3470 - val_loss: 0.7330 - val_acc: 0.3479\n",
      "Epoch 24/100\n",
      "11541/11541 [==============================] - 0s 14us/step - loss: 0.7380 - acc: 0.3586 - val_loss: 0.7262 - val_acc: 0.3569\n",
      "Epoch 25/100\n",
      "11541/11541 [==============================] - 0s 14us/step - loss: 0.7312 - acc: 0.3741 - val_loss: 0.7251 - val_acc: 0.3802\n",
      "Epoch 26/100\n",
      "11541/11541 [==============================] - 0s 13us/step - loss: 0.7289 - acc: 0.3913 - val_loss: 0.7179 - val_acc: 0.3822\n",
      "Epoch 27/100\n",
      "11541/11541 [==============================] - 0s 12us/step - loss: 0.7216 - acc: 0.4110 - val_loss: 0.7048 - val_acc: 0.4107\n",
      "Epoch 28/100\n",
      "11541/11541 [==============================] - 0s 13us/step - loss: 0.7148 - acc: 0.4171 - val_loss: 0.7009 - val_acc: 0.4055\n",
      "Epoch 29/100\n",
      "11541/11541 [==============================] - 0s 12us/step - loss: 0.7123 - acc: 0.4188 - val_loss: 0.7091 - val_acc: 0.4235\n",
      "Epoch 30/100\n",
      "11541/11541 [==============================] - 0s 13us/step - loss: 0.7133 - acc: 0.4257 - val_loss: 0.6974 - val_acc: 0.4305\n",
      "Epoch 31/100\n",
      "11541/11541 [==============================] - 0s 13us/step - loss: 0.7086 - acc: 0.4300 - val_loss: 0.6949 - val_acc: 0.4530\n",
      "Epoch 32/100\n",
      "11541/11541 [==============================] - 0s 12us/step - loss: 0.7066 - acc: 0.4373 - val_loss: 0.6923 - val_acc: 0.4211\n",
      "Epoch 33/100\n",
      "11541/11541 [==============================] - 0s 13us/step - loss: 0.7041 - acc: 0.4368 - val_loss: 0.6924 - val_acc: 0.4395\n",
      "Epoch 34/100\n",
      "11541/11541 [==============================] - 0s 14us/step - loss: 0.7031 - acc: 0.4396 - val_loss: 0.6895 - val_acc: 0.4325\n",
      "Epoch 35/100\n",
      "11541/11541 [==============================] - 0s 13us/step - loss: 0.7019 - acc: 0.4415 - val_loss: 0.6844 - val_acc: 0.4544\n",
      "Epoch 36/100\n",
      "11541/11541 [==============================] - 0s 13us/step - loss: 0.7061 - acc: 0.4411 - val_loss: 0.6888 - val_acc: 0.4239\n",
      "Epoch 37/100\n",
      "11541/11541 [==============================] - 0s 13us/step - loss: 0.7002 - acc: 0.4446 - val_loss: 0.6846 - val_acc: 0.4492\n",
      "Epoch 38/100\n",
      "11541/11541 [==============================] - 0s 12us/step - loss: 0.6979 - acc: 0.4495 - val_loss: 0.6922 - val_acc: 0.4318\n",
      "Epoch 39/100\n",
      "11541/11541 [==============================] - 0s 13us/step - loss: 0.6975 - acc: 0.4446 - val_loss: 0.6823 - val_acc: 0.4533\n",
      "Epoch 40/100\n",
      "11541/11541 [==============================] - 0s 13us/step - loss: 0.6941 - acc: 0.4482 - val_loss: 0.6845 - val_acc: 0.4464\n",
      "Epoch 41/100\n",
      "11541/11541 [==============================] - 0s 13us/step - loss: 0.6946 - acc: 0.4524 - val_loss: 0.6820 - val_acc: 0.4488\n",
      "Epoch 42/100\n",
      "11541/11541 [==============================] - 0s 13us/step - loss: 0.6954 - acc: 0.4544 - val_loss: 0.6793 - val_acc: 0.4398\n",
      "Epoch 43/100\n",
      "11541/11541 [==============================] - 0s 12us/step - loss: 0.6934 - acc: 0.4513 - val_loss: 0.6804 - val_acc: 0.4436\n",
      "Epoch 44/100\n",
      "11541/11541 [==============================] - 0s 13us/step - loss: 0.6914 - acc: 0.4509 - val_loss: 0.6818 - val_acc: 0.4606\n",
      "Epoch 45/100\n",
      "11541/11541 [==============================] - 0s 13us/step - loss: 0.6915 - acc: 0.4565 - val_loss: 0.6739 - val_acc: 0.4575\n",
      "Epoch 46/100\n",
      "11541/11541 [==============================] - 0s 13us/step - loss: 0.6882 - acc: 0.4572 - val_loss: 0.6745 - val_acc: 0.4655\n",
      "Epoch 47/100\n",
      "11541/11541 [==============================] - 0s 13us/step - loss: 0.6909 - acc: 0.4566 - val_loss: 0.6757 - val_acc: 0.4780\n",
      "Epoch 48/100\n",
      "11541/11541 [==============================] - 0s 13us/step - loss: 0.6890 - acc: 0.4598 - val_loss: 0.6764 - val_acc: 0.4551\n",
      "Epoch 49/100\n",
      "11541/11541 [==============================] - 0s 12us/step - loss: 0.6869 - acc: 0.4586 - val_loss: 0.6735 - val_acc: 0.4790\n",
      "Epoch 50/100\n",
      "11541/11541 [==============================] - 0s 12us/step - loss: 0.6865 - acc: 0.4607 - val_loss: 0.6753 - val_acc: 0.4606\n",
      "Epoch 51/100\n",
      "11541/11541 [==============================] - 0s 13us/step - loss: 0.6861 - acc: 0.4584 - val_loss: 0.6784 - val_acc: 0.4509\n",
      "Epoch 52/100\n",
      "11541/11541 [==============================] - 0s 13us/step - loss: 0.6854 - acc: 0.4658 - val_loss: 0.6749 - val_acc: 0.4599\n",
      "Epoch 53/100\n",
      "11541/11541 [==============================] - 0s 13us/step - loss: 0.6863 - acc: 0.4627 - val_loss: 0.6715 - val_acc: 0.4644\n",
      "Epoch 54/100\n",
      "11541/11541 [==============================] - 0s 14us/step - loss: 0.6841 - acc: 0.4663 - val_loss: 0.6698 - val_acc: 0.4790\n",
      "Epoch 55/100\n",
      "11541/11541 [==============================] - 0s 13us/step - loss: 0.6820 - acc: 0.4669 - val_loss: 0.6703 - val_acc: 0.4624\n",
      "Epoch 56/100\n",
      "11541/11541 [==============================] - 0s 12us/step - loss: 0.6824 - acc: 0.4667 - val_loss: 0.6708 - val_acc: 0.4603\n",
      "Epoch 57/100\n"
     ]
    },
    {
     "name": "stdout",
     "output_type": "stream",
     "text": [
      "11541/11541 [==============================] - 0s 12us/step - loss: 0.6806 - acc: 0.4684 - val_loss: 0.6683 - val_acc: 0.4655\n",
      "Epoch 58/100\n",
      "11541/11541 [==============================] - 0s 12us/step - loss: 0.6804 - acc: 0.4689 - val_loss: 0.6665 - val_acc: 0.4447\n",
      "Epoch 59/100\n",
      "11541/11541 [==============================] - 0s 13us/step - loss: 0.6805 - acc: 0.4699 - val_loss: 0.6655 - val_acc: 0.4731\n",
      "Epoch 60/100\n",
      "11541/11541 [==============================] - 0s 12us/step - loss: 0.6813 - acc: 0.4760 - val_loss: 0.6665 - val_acc: 0.4537\n",
      "Epoch 61/100\n",
      "11541/11541 [==============================] - 0s 12us/step - loss: 0.6799 - acc: 0.4734 - val_loss: 0.6655 - val_acc: 0.4516\n",
      "Epoch 62/100\n",
      "11541/11541 [==============================] - 0s 13us/step - loss: 0.6778 - acc: 0.4722 - val_loss: 0.6685 - val_acc: 0.4589\n",
      "Epoch 63/100\n",
      "11541/11541 [==============================] - 0s 12us/step - loss: 0.6852 - acc: 0.4686 - val_loss: 0.6635 - val_acc: 0.4724\n",
      "Epoch 64/100\n",
      "11541/11541 [==============================] - 0s 12us/step - loss: 0.6766 - acc: 0.4786 - val_loss: 0.6638 - val_acc: 0.4762\n",
      "Epoch 65/100\n",
      "11541/11541 [==============================] - 0s 13us/step - loss: 0.6756 - acc: 0.4784 - val_loss: 0.6619 - val_acc: 0.4901\n",
      "Epoch 66/100\n",
      "11541/11541 [==============================] - 0s 13us/step - loss: 0.6754 - acc: 0.4784 - val_loss: 0.6639 - val_acc: 0.4499\n",
      "Epoch 67/100\n",
      "11541/11541 [==============================] - 0s 12us/step - loss: 0.6749 - acc: 0.4843 - val_loss: 0.6647 - val_acc: 0.4686\n",
      "Epoch 68/100\n",
      "11541/11541 [==============================] - 0s 12us/step - loss: 0.6777 - acc: 0.4781 - val_loss: 0.6643 - val_acc: 0.4849\n",
      "Epoch 69/100\n",
      "11541/11541 [==============================] - 0s 12us/step - loss: 0.6742 - acc: 0.4819 - val_loss: 0.6604 - val_acc: 0.4724\n",
      "Epoch 70/100\n",
      "11541/11541 [==============================] - 0s 12us/step - loss: 0.6736 - acc: 0.4790 - val_loss: 0.6626 - val_acc: 0.4731\n",
      "Epoch 71/100\n",
      "11541/11541 [==============================] - 0s 12us/step - loss: 0.6723 - acc: 0.4822 - val_loss: 0.6609 - val_acc: 0.4735\n",
      "Epoch 72/100\n",
      "11541/11541 [==============================] - 0s 12us/step - loss: 0.6732 - acc: 0.4754 - val_loss: 0.6604 - val_acc: 0.4918\n",
      "Epoch 73/100\n",
      "11541/11541 [==============================] - 0s 12us/step - loss: 0.6771 - acc: 0.4853 - val_loss: 0.6572 - val_acc: 0.4540\n",
      "Epoch 74/100\n",
      "11541/11541 [==============================] - 0s 12us/step - loss: 0.6737 - acc: 0.4818 - val_loss: 0.6582 - val_acc: 0.4929\n",
      "Epoch 75/100\n",
      "11541/11541 [==============================] - 0s 12us/step - loss: 0.6703 - acc: 0.4843 - val_loss: 0.6579 - val_acc: 0.4648\n",
      "Epoch 76/100\n",
      "11541/11541 [==============================] - 0s 12us/step - loss: 0.6719 - acc: 0.4820 - val_loss: 0.6660 - val_acc: 0.4596\n",
      "Epoch 77/100\n",
      "11541/11541 [==============================] - 0s 13us/step - loss: 0.6705 - acc: 0.4859 - val_loss: 0.6554 - val_acc: 0.4884\n",
      "Epoch 78/100\n",
      "11541/11541 [==============================] - 0s 13us/step - loss: 0.6696 - acc: 0.4828 - val_loss: 0.6618 - val_acc: 0.4655\n",
      "Epoch 79/100\n",
      "11541/11541 [==============================] - 0s 12us/step - loss: 0.6699 - acc: 0.4811 - val_loss: 0.6574 - val_acc: 0.4683\n",
      "Epoch 80/100\n",
      "11541/11541 [==============================] - 0s 13us/step - loss: 0.6700 - acc: 0.4876 - val_loss: 0.6626 - val_acc: 0.4780\n",
      "Epoch 81/100\n",
      "11541/11541 [==============================] - 0s 12us/step - loss: 0.6700 - acc: 0.4832 - val_loss: 0.6552 - val_acc: 0.4835\n",
      "Epoch 82/100\n",
      "11541/11541 [==============================] - 0s 12us/step - loss: 0.6709 - acc: 0.4811 - val_loss: 0.6660 - val_acc: 0.4766\n",
      "Epoch 83/100\n",
      "11541/11541 [==============================] - 0s 12us/step - loss: 0.6715 - acc: 0.4819 - val_loss: 0.6605 - val_acc: 0.4724\n",
      "Epoch 84/100\n",
      "11541/11541 [==============================] - 0s 12us/step - loss: 0.6689 - acc: 0.4836 - val_loss: 0.6631 - val_acc: 0.4821\n",
      "Epoch 85/100\n",
      "11541/11541 [==============================] - 0s 12us/step - loss: 0.6715 - acc: 0.4825 - val_loss: 0.6609 - val_acc: 0.4797\n",
      "Epoch 86/100\n",
      "11541/11541 [==============================] - 0s 12us/step - loss: 0.6702 - acc: 0.4872 - val_loss: 0.6539 - val_acc: 0.4842\n",
      "Epoch 87/100\n",
      "11541/11541 [==============================] - 0s 13us/step - loss: 0.6710 - acc: 0.4775 - val_loss: 0.6550 - val_acc: 0.4735\n",
      "Epoch 88/100\n",
      "11541/11541 [==============================] - 0s 13us/step - loss: 0.6667 - acc: 0.4896 - val_loss: 0.6555 - val_acc: 0.4925\n",
      "Epoch 89/100\n",
      "11541/11541 [==============================] - 0s 12us/step - loss: 0.6691 - acc: 0.4831 - val_loss: 0.6613 - val_acc: 0.4707\n",
      "Epoch 90/100\n",
      "11541/11541 [==============================] - 0s 12us/step - loss: 0.6700 - acc: 0.4853 - val_loss: 0.6573 - val_acc: 0.4870\n",
      "Epoch 91/100\n",
      "11541/11541 [==============================] - 0s 12us/step - loss: 0.6664 - acc: 0.4878 - val_loss: 0.6524 - val_acc: 0.4898\n",
      "Epoch 92/100\n",
      "11541/11541 [==============================] - 0s 12us/step - loss: 0.6662 - acc: 0.4844 - val_loss: 0.6572 - val_acc: 0.4825\n",
      "Epoch 93/100\n",
      "11541/11541 [==============================] - 0s 12us/step - loss: 0.6702 - acc: 0.4824 - val_loss: 0.6586 - val_acc: 0.4658\n",
      "Epoch 94/100\n",
      "11541/11541 [==============================] - 0s 13us/step - loss: 0.6680 - acc: 0.4863 - val_loss: 0.6578 - val_acc: 0.4599\n",
      "Epoch 95/100\n",
      "11541/11541 [==============================] - 0s 12us/step - loss: 0.6687 - acc: 0.4871 - val_loss: 0.6557 - val_acc: 0.4658\n",
      "Epoch 96/100\n",
      "11541/11541 [==============================] - 0s 12us/step - loss: 0.6652 - acc: 0.4898 - val_loss: 0.6571 - val_acc: 0.4977\n",
      "Epoch 97/100\n",
      "11541/11541 [==============================] - 0s 12us/step - loss: 0.6660 - acc: 0.4915 - val_loss: 0.6530 - val_acc: 0.4696\n",
      "Epoch 98/100\n",
      "11541/11541 [==============================] - 0s 12us/step - loss: 0.6658 - acc: 0.4888 - val_loss: 0.6548 - val_acc: 0.4773\n",
      "Epoch 99/100\n",
      "11541/11541 [==============================] - 0s 12us/step - loss: 0.6659 - acc: 0.4905 - val_loss: 0.6565 - val_acc: 0.4641\n",
      "Epoch 100/100\n",
      "11541/11541 [==============================] - 0s 12us/step - loss: 0.6668 - acc: 0.4830 - val_loss: 0.6524 - val_acc: 0.5050\n"
     ]
    }
   ],
   "source": [
    "autoencoder.compile(metrics=['accuracy'],\n",
    "                    loss='mean_squared_error',\n",
    "                    optimizer='adam')\n",
    "\n",
    "cp = ModelCheckpoint(filepath=\"autoencoder_classifier.h5\",\n",
    "                               save_best_only=True,\n",
    "                               verbose=0)\n",
    "\n",
    "tb = TensorBoard(log_dir='./logs',\n",
    "                histogram_freq=0,\n",
    "                write_graph=True,\n",
    "                write_images=True)\n",
    "\n",
    "history = autoencoder.fit(df_train_0_x_rescaled, df_train_0_x_rescaled,\n",
    "                    epochs=nb_epoch,\n",
    "                    batch_size=batch_size,\n",
    "                    shuffle=True,\n",
    "                    validation_data=(df_valid_0_x_rescaled, df_valid_0_x_rescaled),\n",
    "                    verbose=1,\n",
    "                    callbacks=[cp, tb]).history"
   ]
  },
  {
   "cell_type": "code",
   "execution_count": 11,
   "metadata": {},
   "outputs": [],
   "source": [
    "autoencoder = load_model('autoencoder_classifier.h5')"
   ]
  },
  {
   "cell_type": "code",
   "execution_count": 17,
   "metadata": {},
   "outputs": [
    {
     "data": {
      "image/png": "[encoded data removed]",
      "text/plain": [
       "<Figure size 432x288 with 1 Axes>"
      ]
     },
     "metadata": {
      "needs_background": "light"
     },
     "output_type": "display_data"
    }
   ],
   "source": [
    "plt.plot(history['loss'], linewidth=2, label='Train')\n",
    "plt.plot(history['val_loss'], linewidth=2, label='Valid')\n",
    "plt.legend(loc='upper right')\n",
    "plt.title('Model loss')\n",
    "plt.ylabel('Loss')\n",
    "plt.xlabel('Epoch')\n",
    "plt.show()"
   ]
  },
  {
   "cell_type": "code",
   "execution_count": 18,
   "metadata": {},
   "outputs": [
    {
     "data": {
      "image/png": "[encoded data removed]",
      "text/plain": [
       "<Figure size 432x288 with 1 Axes>"
      ]
     },
     "metadata": {
      "needs_background": "light"
     },
     "output_type": "display_data"
    }
   ],
   "source": [
    "valid_x_predictions = autoencoder.predict(df_valid_x_rescaled)\n",
    "mse = np.mean(np.power(df_valid_x_rescaled - valid_x_predictions, 2), axis=1)\n",
    "error_df = pd.DataFrame({'Reconstruction_error': mse,\n",
    "                        'True_class': df_valid['y']})\n",
    "\n",
    "precision_rt, recall_rt, threshold_rt = precision_recall_curve(error_df.True_class, error_df.Reconstruction_error)\n",
    "plt.plot(threshold_rt, precision_rt[1:], label=\"Precision\",linewidth=5)\n",
    "plt.plot(threshold_rt, recall_rt[1:], label=\"Recall\",linewidth=5)\n",
    "plt.title('Precision and recall for different threshold values')\n",
    "plt.xlabel('Threshold')\n",
    "plt.ylabel('Precision/Recall')\n",
    "plt.legend()\n",
    "plt.show()"
   ]
  },
  {
   "cell_type": "code",
   "execution_count": 19,
   "metadata": {},
   "outputs": [],
   "source": [
    "test_x_predictions = autoencoder.predict(df_test_x_rescaled)\n",
    "mse = np.mean(np.power(df_test_x_rescaled - test_x_predictions, 2), axis=1)\n",
    "error_df_test = pd.DataFrame({'Reconstruction_error': mse,\n",
    "                        'True_class': df_test['y']})\n",
    "error_df_test = error_df_test.reset_index()"
   ]
  },
  {
   "cell_type": "code",
   "execution_count": 20,
   "metadata": {},
   "outputs": [
    {
     "data": {
      "image/png": "[encoded data removed]",
      "text/plain": [
       "<Figure size 432x288 with 1 Axes>"
      ]
     },
     "metadata": {
      "needs_background": "light"
     },
     "output_type": "display_data"
    }
   ],
   "source": [
    "threshold_fixed = 0.85\n",
    "groups = error_df_test.groupby('True_class')\n",
    "\n",
    "fig, ax = plt.subplots()\n",
    "\n",
    "for name, group in groups:\n",
    "    ax.plot(group.index, group.Reconstruction_error, marker='o', ms=3.5, linestyle='',\n",
    "            label= \"Break\" if name == 1 else \"Normal\")\n",
    "ax.hlines(threshold_fixed, ax.get_xlim()[0], ax.get_xlim()[1], colors=\"r\", zorder=100, label='Threshold')\n",
    "ax.legend()\n",
    "plt.title(\"Reconstruction error for different classes\")\n",
    "plt.ylabel(\"Reconstruction error\")\n",
    "plt.xlabel(\"Data point index\")\n",
    "plt.show();"
   ]
  },
  {
   "cell_type": "code",
   "execution_count": 21,
   "metadata": {},
   "outputs": [],
   "source": [
    "pred_y = [1 if e > threshold_fixed else 0 for e in error_df.Reconstruction_error.values]\n"
   ]
  },
  {
   "cell_type": "code",
   "execution_count": 22,
   "metadata": {},
   "outputs": [],
   "source": [
    "predictions = pd.DataFrame({'true': error_df.True_class,\n",
    "                           'predicted': pred_y})"
   ]
  },
  {
   "cell_type": "code",
   "execution_count": 23,
   "metadata": {},
   "outputs": [
    {
     "data": {
      "image/png": "[encoded data removed]",
      "text/plain": [
       "<Figure size 576x576 with 2 Axes>"
      ]
     },
     "metadata": {
      "needs_background": "light"
     },
     "output_type": "display_data"
    }
   ],
   "source": [
    "conf_matrix = confusion_matrix(error_df.True_class, pred_y)\n",
    "plt.figure(figsize=(8, 8))\n",
    "sns.heatmap(conf_matrix, xticklabels=LABELS, yticklabels=LABELS, annot=True, fmt=\"d\");\n",
    "plt.title(\"Confusion matrix\")\n",
    "plt.ylabel('True class')\n",
    "plt.xlabel('Predicted class')\n",
    "plt.show()"
   ]
  },
  {
   "cell_type": "code",
   "execution_count": 24,
   "metadata": {},
   "outputs": [
    {
     "data": {
      "image/png": "[encoded data removed]",
      "text/plain": [
       "<Figure size 432x288 with 1 Axes>"
      ]
     },
     "metadata": {
      "needs_background": "light"
     },
     "output_type": "display_data"
    }
   ],
   "source": [
    "false_pos_rate, true_pos_rate, thresholds = roc_curve(error_df.True_class, error_df.Reconstruction_error)\n",
    "roc_auc = auc(false_pos_rate, true_pos_rate,)\n",
    "\n",
    "plt.plot(false_pos_rate, true_pos_rate, linewidth=5, label='AUC = %0.3f'% roc_auc)\n",
    "plt.plot([0,1],[0,1], linewidth=5)\n",
    "\n",
    "plt.xlim([-0.01, 1])\n",
    "plt.ylim([0, 1.01])\n",
    "plt.legend(loc='lower right')\n",
    "plt.title('Receiver operating characteristic curve (ROC)')\n",
    "plt.ylabel('True Positive Rate')\n",
    "plt.xlabel('False Positive Rate')\n",
    "plt.show()"
   ]
  }
 ],
 "metadata": {
  "kernelspec": {
   "display_name": "keras_tf",
   "language": "python",
   "name": "keras_tf"
  },
  "language_info": {
   "codemirror_mode": {
    "name": "ipython",
    "version": 3
   },
   "file_extension": ".py",
   "mimetype": "text/x-python",
   "name": "python",
   "nbconvert_exporter": "python",
   "pygments_lexer": "ipython3",
   "version": "3.6.8"
  }
 },
 "nbformat": 4,
 "nbformat_minor": 2
}
