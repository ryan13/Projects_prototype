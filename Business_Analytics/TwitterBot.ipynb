{
 "cells": [
  {
   "cell_type": "markdown",
   "metadata": {},
   "source": [
    "# Tutorial: creating a Twitterbot\n",
    "{This notebook was created based on the tutorial by  Edwin Dalmaijer available [here](https://www.pygaze.org/2016/03/how-to-code-twitter-bot/)}\n",
    "\n",
    "Although it sounds like a lot of effort, creating a Twitter bot is actually really easy! This tutorial, along with some simple tools, can help you create Twitter bots that respond when they see certain phrases, or that periodically post a tweet. These bots work with Markov chains, which can generate text that looks superficially good, but is actually quite nonsensical. You can make the bots read your favourite texts, and they will produce new random text in the same style!\n",
    "\n",
    "## All code is available on GitHub\n",
    "The examples on this page use a custom Python library, written by [Edwin Dalmaijer](http://www.pygaze.org/esdalmaijer) (that’s the author of this article). This library is open source, and available on GitHub for free. You are very welcome to download and use it, but I would like to kindly ask you to not use it for doing evil stuff. So don’t start spamming or harassing people!\n",
    "\n",
    "- [GitHub page](https://github.com/esdalmaijer/markovbot)\n",
    "- [Direct download (.zip)](https://github.com/esdalmaijer/markovbot/archive/master.zip)\n",
    "\n",
    "## Step 1: Create a Twitter account\n",
    "This is an easy step, no code here yet. Simply follow the instructions to create a new Twitter account.\n",
    "\n",
    "- Go to [Twitter’s sign-up page](https://twitter.com/signup).\n",
    "- Fill out all details, and make sure to include your phone number. This is a requirement for remote access, and you will need that to make the Twitter bot work.\n",
    "\n",
    "## Step 2: Create a Twitter app\n",
    "Not all Twitter accounts are created equal. You will need developer access to yours, if you want to use it via a Python script.\n",
    "\n",
    "- Go to apps.twitter.com\n",
    "- Click on the ‘Create New App’ button.\n",
    "- Fill out the details on the form. You have to give your app a name, description, and website (this can be a simple place holder, like http://www.example.com)\n",
    "- Read the Developer Agreement, and check the box at the bottom if you agree. Then click on the ‘Create your Twitter application’ button.\n",
    "\n",
    "## Step 3: Keys and access tokens\n",
    "This is an important step, as you will need the keys and access tokens for you app. They allow you to sign in to your account via a Python script.\n",
    "\n",
    "- After creating your new app, you were redirected to its own page. If you weren’t, go to apps.twitter.com and click on your apps name.\n",
    "- On the app’s page, click on the ‘Keys and Access Tokens’ page.\n",
    "- At the bottom of this page, click on the ‘Create my access token’ button.\n",
    "- Make sure you make note of the following four keys, as you will need these later. (Just leave the tab open in your browser, or copy them to a text file or something. Make sure nobody else can access them, though!)\n",
    "\n",
    "|Key/Token|Address to copy from|\n",
    "|------|------|\n",
    "|Consumer Key (API Key)|\t[ copy this value from Consumer Settings ]|\n",
    "|Consumer Secret (API Secret)|\t[ copy this value from Consumer Settings ]|\n",
    "|Access Token|\t[ copy this value from Your Access Token ]|\n",
    "|Access Token Secret|\t[ copy this value from Your Access Token ]|"
   ]
  },
  {
   "cell_type": "code",
   "execution_count": 19,
   "metadata": {
    "collapsed": false
   },
   "outputs": [],
   "source": [
    "consumer_key = ''\n",
    "consumer_secret = ''\n",
    "access_token = ''\n",
    "access_token_secret = ''"
   ]
  },
  {
   "cell_type": "code",
   "execution_count": 26,
   "metadata": {
    "collapsed": true
   },
   "outputs": [],
   "source": [
    "import os\n",
    "from markovbot import MarkovBot"
   ]
  },
  {
   "cell_type": "code",
   "execution_count": 9,
   "metadata": {
    "collapsed": true
   },
   "outputs": [],
   "source": [
    "#Initialize a MarkovBot instance\n",
    "TwitterBot = MarkovBot()"
   ]
  },
  {
   "cell_type": "code",
   "execution_count": 12,
   "metadata": {
    "collapsed": false
   },
   "outputs": [],
   "source": [
    "# Get the current directory's path\n",
    "# dirname = os.path.dirname(os.path.abspath(__file__))\n",
    "# Construct the path to the book\n",
    "# book = os.path.join(dirname, 'Freud_Dream_Psychology.txt')\n",
    "# Make your bot read the book!\n",
    "TwitterBot.read('C:\\Users\\Legion\\Freud_Dream_Psychology.txt')"
   ]
  },
  {
   "cell_type": "markdown",
   "metadata": {},
   "source": [
    "- generate_text‘s argument is the number of words you want in your text. Let’s try 25 for now.\n",
    "- generate_text‘s interesting keyword argument is seedword. You can use it to define one or more keywords that you would like the bot to try and start its sentence with:"
   ]
  },
  {
   "cell_type": "code",
   "execution_count": 15,
   "metadata": {
    "collapsed": false
   },
   "outputs": [
    {
     "name": "stdout",
     "output_type": "stream",
     "text": [
      "TwitterBot says:\n",
      "Sheet of tin. His father wants to pull off a fly during sleep, as this dream.\n"
     ]
    }
   ],
   "source": [
    "my_first_text = TwitterBot.generate_text(25, seedword=['dream', 'psychoanalysis'])\n",
    "print(\"TwitterBot says:\")\n",
    "print(my_first_text)"
   ]
  },
  {
   "cell_type": "code",
   "execution_count": 20,
   "metadata": {
    "collapsed": false
   },
   "outputs": [],
   "source": [
    "# Log in to Twitter\n",
    "TwitterBot.twitter_login(consumer_key, consumer_secret, access_token, access_token_secret)"
   ]
  },
  {
   "cell_type": "markdown",
   "metadata": {},
   "source": [
    "- Only one more thing to do before you can start up the bot: You need to decide what your bot should do.\n",
    "- There are two different things the MarkovBot class can do. The first is to periodically post something. This is explained further down.\n",
    "- The second thing the MarkovBot class can do, is to monitor Twitter for specific things. You can specify a target string, which the bot will then use to track what happens on Twitter. For more information on the search string, see the Twitter API website. The target string determines what tweets your bot will reply to, but it doesn’t determine what the bot says. For that, you need to specify keywords. These can go in a big list, which the bot will use whenever he sees a new tweet that matches the target string. Your bot will try to find any of your keywords in the tweets he reads, and will then attempt to use the keywords he found to start a reply with. For example, if your target string is ‘#MarryMeFreud’, and your keywords are [‘marriage’, ‘ring’, ‘flowers’, ‘children’], then your bot could find a tweet that reads I want your flowers and your children! #MarryMeFreud. In this case, the bot would read the tweet, find ‘flowers’ and ‘children’, and it will attempt to use those to start his reply. (Note: He won’t use both words, this is a very simple hierarchical thing, where the bot will try ‘flowers’ first, and ‘children’ if ‘flowers’ doesn’t work.)\n",
    "- In addition to the above, you can also have the MarkovBot add prefixes and suffixes to your tweets. This allows you to, for example, always start your tweet with a mention of someone (e.g. ‘@example’), or to always end with a hashtag you like (e.g. ‘#askFreud’).\n",
    "- Finally, the MarkovBot allows you to impose some boundaries on its behaviour. Specifically, it allows you to specify the maximal conversational depth at which it is still allowed to reply. If you are going to use your bot to reply to people, this is something you really should do. For example, if your bot always replies to people who mention ‘@example’, they are likely to wish to talk to Edward Xample. It’s funny to get one or two random responses, but as the conversation between people and Edward Xample continuous, you really don’t want your bot to keep talking to them. For this purpose, you can set the maxconvdepth to 2. This will allow your bot to reply only in conversations with no more than two replies."
   ]
  },
  {
   "cell_type": "code",
   "execution_count": 21,
   "metadata": {
    "collapsed": true
   },
   "outputs": [],
   "source": [
    "# Set some parameters for your bot\n",
    "targetstring = 'MarryMeFreud'\n",
    "keywords = ['marriage', 'ring', 'flowers', 'children', 'religion']\n",
    "prefix = None\n",
    "suffix = '#FreudSaysIDo'\n",
    "maxconvdepth = None"
   ]
  },
  {
   "cell_type": "markdown",
   "metadata": {},
   "source": [
    "- The MarkovBot’s twitter_autoreply_start method can start a Thread that will track tweets with your target string, and automatically reply to them using your chosen parameters.\n",
    "- If you want to stop your MarkovBot from automatically replying, you can call its twitter_autoreply_start method. How quick your bot replies to tweets is highly dependent on how many tweets are posted that match your target string."
   ]
  },
  {
   "cell_type": "code",
   "execution_count": 22,
   "metadata": {
    "collapsed": true
   },
   "outputs": [],
   "source": [
    "# Start auto-responding to tweets\n",
    "# tweetbot.twitter_autoreply_start(targetstring, keywords=keywords, prefix=prefix, suffix=suffix, maxconvdepth=maxconvdepth)\n",
    " \n",
    "# Use the following to stop auto-responding\n",
    "# (Don't do this directly after starting it, or your bot will do nothing!)\n",
    "# tweetbot.twitter_autoreply_stop()"
   ]
  },
  {
   "cell_type": "markdown",
   "metadata": {},
   "source": [
    "- Another thing the MarkovBot can do, is to periodically post a new tweet. You can start this with the twitter_tweeting_start method.\n",
    "- The keywords, prefix, and suffix keywords are available for this function too. The keywords work a bit different though: For every tweet, one of them is randomly selected. You can also pass None instead of a list of keywords, in which case your bot will just freestyle it.\n",
    "- One very important thing, is the timing. The twitter_tweeting_start method provides three keywords to control its timing: days, hours, and minutes. The time you specify here, is the time the bot waits between tweets. You can use all three keywords, or just a single one. If you don’t specify anything, the bot will use its default of one day.\n",
    "- If you want your bot to stop, you can use the twitter_tweeting_stop method."
   ]
  },
  {
   "cell_type": "code",
   "execution_count": 24,
   "metadata": {
    "collapsed": false
   },
   "outputs": [],
   "source": [
    "# Start periodically tweeting\n",
    "TwitterBot.twitter_tweeting_start(days=0, hours=19, minutes=30, keywords=None, prefix=None, suffix='#SomeSuffix')\n",
    " \n",
    "# Use the following to stop periodically tweeting\n",
    "# (Don't do this directly after starting it, or your bot will do nothing!)\n",
    "TwitterBot.twitter_tweeting_stop()"
   ]
  },
  {
   "cell_type": "markdown",
   "metadata": {},
   "source": [
    "## Spamming and trolling\n",
    "Although Twitter bots can easily be used to spam and troll people, I kindly ask you not to do it. You gain absolutely nothing by doing it, and Twitter’s API is built in such a way that it automatically blocks accounts that do too much, so you will be shut down for spamming. Nobody likes spammers and trolls, so don’t be one.\n",
    "\n",
    "## Conclusion\n",
    "Creating a Twitter bot is easy! If you want to use my software to create your own, please do go ahead. It’s free and open, and this page lists the instructions on how to download it. I would love to hear about your projects, so please feel free to leave a comment with your story."
   ]
  }
 ],
 "metadata": {
  "anaconda-cloud": {},
  "kernelspec": {
   "display_name": "Python [default]",
   "language": "python",
   "name": "python2"
  },
  "language_info": {
   "codemirror_mode": {
    "name": "ipython",
    "version": 2
   },
   "file_extension": ".py",
   "mimetype": "text/x-python",
   "name": "python",
   "nbconvert_exporter": "python",
   "pygments_lexer": "ipython2",
   "version": "2.7.12"
  }
 },
 "nbformat": 4,
 "nbformat_minor": 1
}
