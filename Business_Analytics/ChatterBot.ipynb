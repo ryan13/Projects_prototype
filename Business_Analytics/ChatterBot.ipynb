{
 "cells": [
  {
   "cell_type": "markdown",
   "metadata": {},
   "source": [
    "# Build a simple bot using ChatterBot"
   ]
  },
  {
   "cell_type": "markdown",
   "metadata": {},
   "source": [
    "Hello. This notebook introduces a simple method of building a chatbot using a Python package called \"chatterbot\".\n",
    "There are the only 4 necessary steps to take:\n",
    "* STEP 1 - Import the necessary functions (i.e. ChatBot)\n",
    "* STEP 2 - Create/initialize the ChatBot (give it a name and call its trainer)\n",
    "* STEP 3 - Train it to interact in English\n",
    "* STEP 4 - Start chatting"
   ]
  },
  {
   "cell_type": "markdown",
   "metadata": {},
   "source": [
    "To learn more about the ChatterBot pachakge, visit its page on [GitHub](https://github.com/gunthercox/ChatterBot) or read the [documentation](https://chatterbot.readthedocs.io/en/stable/)."
    ]
  },
  {
   "cell_type": "code",
   "execution_count": 1,
   "metadata": {
    "collapsed": true
   },
   "outputs": [],
   "source": [
    "# STEP 1: import the library\n",
    "from chatterbot import ChatBot"
   ]
  },
  {
   "cell_type": "code",
   "execution_count": 2,
   "metadata": {
    "collapsed": false
   },
   "outputs": [
    {
     "name": "stderr",
     "output_type": "stream",
     "text": [
      "C:\\Program Files\\Anaconda2\\lib\\site-packages\\chatterbot\\storage\\jsonfile.py:26: UnsuitableForProductionWarning: The JsonFileStorageAdapter is not recommended for production environments.\n",
      "  self.UnsuitableForProductionWarning\n"
     ]
    }
   ],
   "source": [
    "# STEP 2: Initialize the chatbot\n",
    "chatbot = ChatBot('Tyrion Lannister', trainer='chatterbot.trainers.ChatterBotCorpusTrainer')"
   ]
  },
  {
   "cell_type": "code",
   "execution_count": 3,
   "metadata": {
    "collapsed": true
   },
   "outputs": [],
   "source": [
    "# STEP 3: Train the chatbot to interact in English\n",
    "chatbot.train(\"chatterbot.corpus.english\")"
   ]
  },
  {
   "cell_type": "code",
   "execution_count": null,
   "metadata": {
    "collapsed": false
   },
   "outputs": [],
   "source": [
    "# STEP 4: Start chatting\n",
    "print chatbot.get_response(raw_input())"
   ]
  }
 ],
 "metadata": {
  "anaconda-cloud": {},
  "kernelspec": {
   "display_name": "Python [default]",
   "language": "python",
   "name": "python2"
  },
  "language_info": {
   "codemirror_mode": {
    "name": "ipython",
    "version": 2
   },
   "file_extension": ".py",
   "mimetype": "text/x-python",
   "name": "python",
   "nbconvert_exporter": "python",
   "pygments_lexer": "ipython2",
   "version": "2.7.12"
  }
 },
 "nbformat": 4,
 "nbformat_minor": 1
}
